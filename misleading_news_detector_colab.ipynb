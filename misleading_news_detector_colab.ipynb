{
  "nbformat": 4,
  "nbformat_minor": 0,
  "metadata": {
    "colab": {
      "provenance": [],
      "gpuType": "T4",
      "authorship_tag": "ABX9TyOQY5ihiauntMe/h729oRlf",
      "include_colab_link": true
    },
    "kernelspec": {
      "name": "python3",
      "display_name": "Python 3"
    },
    "language_info": {
      "name": "python"
    },
    "accelerator": "GPU"
  },
  "cells": [
    {
      "cell_type": "markdown",
      "metadata": {
        "id": "view-in-github",
        "colab_type": "text"
      },
      "source": [
        "<a href=\"https://colab.research.google.com/github/prafullahas/misleading_news_detector_colab/blob/main/misleading_news_detector_colab.ipynb\" target=\"_parent\"><img src=\"https://colab.research.google.com/assets/colab-badge.svg\" alt=\"Open In Colab\"/></a>"
      ]
    },
    {
      "cell_type": "code",
      "source": [
        " !pip install transformers gradio sentencepiece datasets --quiet\n"
      ],
      "metadata": {
        "id": "hKeKFbCcYwFh"
      },
      "execution_count": 7,
      "outputs": []
    },
    {
      "cell_type": "code",
      "source": [
        "import gradio as gr\n",
        "from transformers import pipeline\n",
        "import re"
      ],
      "metadata": {
        "id": "62PEkWODZ85n"
      },
      "execution_count": 2,
      "outputs": []
    },
    {
      "cell_type": "code",
      "source": [
        "summarizer = pipeline(\"summarization\", model=\"facebook/bart-large-cnn\")\n"
      ],
      "metadata": {
        "colab": {
          "base_uri": "https://localhost:8080/"
        },
        "id": "JBGEoz86aCaB",
        "outputId": "45f75cc4-2ad4-46e4-cde6-8436d97e16d7"
      },
      "execution_count": 9,
      "outputs": [
        {
          "output_type": "stream",
          "name": "stderr",
          "text": [
            "Device set to use cuda:0\n"
          ]
        }
      ]
    },
    {
      "cell_type": "code",
      "source": [
        "def extract_action_items(text):\n",
        "    \"\"\"\n",
        "    Extracts action items based on trigger patterns.\n",
        "    \"\"\"\n",
        "    patterns = [\n",
        "        r\"\\bwill\\b.*?(?:\\.|$)\",\n",
        "        r\"\\bneed to\\b.*?(?:\\.|$)\",\n",
        "        r\"\\bshould\\b.*?(?:\\.|$)\",\n",
        "        r\"\\bassign\\b.*?(?:\\.|$)\",\n",
        "        r\"\\bdeadline\\b.*?(?:\\.|$)\"\n",
        "    ]\n",
        "    action_items = []\n",
        "    for pattern in patterns:\n",
        "        matches = re.findall(pattern, text, flags=re.IGNORECASE)\n",
        "        action_items.extend([m.strip() for m in matches])\n",
        "    return list(set(action_items))  # remove duplicates"
      ],
      "metadata": {
        "id": "RogpsI6OaQdR"
      },
      "execution_count": 10,
      "outputs": []
    },
    {
      "cell_type": "code",
      "source": [
        "def process_meeting(meeting_text):\n",
        "    # Summarize\n",
        "    summary = summarizer(meeting_text, max_length=130, min_length=30, do_sample=False)[0]['summary_text']\n",
        "\n",
        "    # Extract action items\n",
        "    actions = extract_action_items(meeting_text)\n",
        "\n",
        "    # Format output\n",
        "    if actions:\n",
        "        actions_str = \"\\n\".join(f\"- {a}\" for a in actions)\n",
        "    else:\n",
        "        actions_str = \"No clear action items found.\"\n",
        "\n",
        "    return summary, actions_str"
      ],
      "metadata": {
        "id": "dXzoBbnuadiH"
      },
      "execution_count": 11,
      "outputs": []
    },
    {
      "cell_type": "code",
      "source": [
        "with gr.Blocks() as demo:\n",
        "    gr.Markdown(\"# 📋 Smart Meeting Summarizer & Action Item Extractor\")\n",
        "    gr.Markdown(\"Paste meeting transcript text below and get a concise summary plus action items.\")\n",
        "\n",
        "    input_text = gr.Textbox(label=\"Meeting Transcript\", lines=12, placeholder=\"Paste your meeting text here...\")\n",
        "    summary_output = gr.Textbox(label=\"Meeting Summary\", lines=6)\n",
        "    actions_output = gr.Textbox(label=\"Action Items\", lines=6)\n",
        "\n",
        "    run_btn = gr.Button(\"Process\")\n",
        "    run_btn.click(process_meeting, inputs=input_text, outputs=[summary_output, actions_output])\n",
        "\n",
        "demo.launch(debug=True)"
      ],
      "metadata": {
        "colab": {
          "base_uri": "https://localhost:8080/",
          "height": 680
        },
        "id": "N0GIPEJDah_O",
        "outputId": "e776519c-0262-4bab-890d-7ef30bacd127"
      },
      "execution_count": 12,
      "outputs": [
        {
          "output_type": "stream",
          "name": "stdout",
          "text": [
            "It looks like you are running Gradio on a hosted Jupyter notebook, which requires `share=True`. Automatically setting `share=True` (you can turn this off by setting `share=False` in `launch()` explicitly).\n",
            "\n",
            "Colab notebook detected. This cell will run indefinitely so that you can see errors and logs. To turn off, set debug=False in launch().\n",
            "* Running on public URL: https://f57fcb904c742f41a1.gradio.live\n",
            "\n",
            "This share link expires in 1 week. For free permanent hosting and GPU upgrades, run `gradio deploy` from the terminal in the working directory to deploy to Hugging Face Spaces (https://huggingface.co/spaces)\n"
          ]
        },
        {
          "output_type": "display_data",
          "data": {
            "text/plain": [
              "<IPython.core.display.HTML object>"
            ],
            "text/html": [
              "<div><iframe src=\"https://f57fcb904c742f41a1.gradio.live\" width=\"100%\" height=\"500\" allow=\"autoplay; camera; microphone; clipboard-read; clipboard-write;\" frameborder=\"0\" allowfullscreen></iframe></div>"
            ]
          },
          "metadata": {}
        },
        {
          "output_type": "stream",
          "name": "stdout",
          "text": [
            "Keyboard interruption in main thread... closing server.\n",
            "Killing tunnel 127.0.0.1:7860 <> https://f57fcb904c742f41a1.gradio.live\n"
          ]
        },
        {
          "output_type": "execute_result",
          "data": {
            "text/plain": []
          },
          "metadata": {},
          "execution_count": 12
        }
      ]
    },
    {
      "cell_type": "code",
      "source": [],
      "metadata": {
        "id": "QTuIpZ4pamTp"
      },
      "execution_count": null,
      "outputs": []
    }
  ]
}